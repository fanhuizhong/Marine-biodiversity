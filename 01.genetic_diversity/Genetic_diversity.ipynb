{
 "cells": [
  {
   "cell_type": "code",
   "execution_count": 1,
   "metadata": {
    "ExecuteTime": {
     "end_time": "2022-10-19T08:50:55.942056Z",
     "start_time": "2022-10-19T08:50:56.017Z"
    }
   },
   "outputs": [
    {
     "name": "stderr",
     "output_type": "stream",
     "text": [
      "\n",
      "Attaching package: ‘dplyr’\n",
      "\n",
      "\n",
      "The following objects are masked from ‘package:stats’:\n",
      "\n",
      "    filter, lag\n",
      "\n",
      "\n",
      "The following objects are masked from ‘package:base’:\n",
      "\n",
      "    intersect, setdiff, setequal, union\n",
      "\n",
      "\n",
      "Linking to GEOS 3.9.1, GDAL 3.2.2, PROJ 8.0.0\n",
      "\n",
      "udunits database from /usr/share/udunits/udunits2.xml\n",
      "\n"
     ]
    }
   ],
   "source": [
    "library(dplyr)\n",
    "library(sf)\n",
    "library(ggplot2)\n",
    "library(units)"
   ]
  },
  {
   "cell_type": "markdown",
   "metadata": {},
   "source": [
    "# genetic diversity of each marine species"
   ]
  },
  {
   "cell_type": "code",
   "execution_count": 6,
   "metadata": {
    "ExecuteTime": {
     "end_time": "2022-10-19T08:55:31.553343Z",
     "start_time": "2022-10-19T08:55:26.385Z"
    },
    "scrolled": true
   },
   "outputs": [
    {
     "data": {
      "text/html": [
       "4417"
      ],
      "text/latex": [
       "4417"
      ],
      "text/markdown": [
       "4417"
      ],
      "text/plain": [
       "[1] 4417"
      ]
     },
     "metadata": {},
     "output_type": "display_data"
    }
   ],
   "source": [
    "master_matrices <- read.csv(\"master_matrices.csv\",header=T) # πvalue between each two sequence\n",
    "gendivers <- subset(master_matrices,seq1 > 0 & num_per_bp < 0.1 & overlap >= 0.6) %>% group_by(species) %>% \n",
    "  summarise(genetic_diversity=mean(num_per_bp),sd=sd(num_per_bp),seq_count=max(seq2),variation=sd/genetic_diversity) %>% \n",
    "    subset(seq_count > 3) # genetic diversity of each species (select 0 <πvalue < 0.1,and overlap between two sequence should >= 60%)\n",
    "gendivers$species <- gendivers$species %>% as.character() %>% strsplit(split = \"_\") %>%\n",
    "  lapply(function(x){paste(x[1],x[2],sep=\" \")}) %>% unlist()   # species name list of genetic diversity\n",
    "length(unique(gendivers$species))\n",
    "#data filter\n",
    "gendivers_corrected <- subset(gendivers,variation < 3) # delete abnormal genetic diversity value>outlier: genetic_diversity < outlier & \n",
    "write.table(gendivers_corrected$species,\"genetic_data_species_list.txt\",sep=\"\\n\",col.names=F,row.names=F,quote=F)\n",
    "write.table(gendivers_corrected,\"gendivers_corrected.csv\",sep = ',',row.names=F)"
   ]
  },
  {
   "cell_type": "code",
   "execution_count": 8,
   "metadata": {
    "ExecuteTime": {
     "end_time": "2022-10-19T09:00:12.783579Z",
     "start_time": "2022-10-19T09:00:09.934Z"
    },
    "scrolled": true
   },
   "outputs": [
    {
     "name": "stdout",
     "output_type": "stream",
     "text": [
      "Reading layer `Export_Output_5' from data source `/home/fhz/users/HMP/conservation_marine_animals/GD/git_hub/03.map/SHP/Export_Output_5.shp' using driver `ESRI Shapefile'\n",
      "Simple feature collection with 3458 features and 10 fields\n",
      "geometry type:  MULTIPOLYGON\n",
      "dimension:      XY\n",
      "bbox:           xmin: -180 ymin: -85.22194 xmax: 180 ymax: 89.97895\n",
      "geographic CRS: StandardWorldMapCoordination\n"
     ]
    },
    {
     "data": {
      "text/plain": [
       "   species             grid_id          long                lat          \n",
       " Length:793918      Min.   :   1   Min.   :-17174579   Min.   :-7123536  \n",
       " Class :character   1st Qu.:1224   1st Qu.: -6369379   1st Qu.:-2106836  \n",
       " Mode  :character   Median :1694   Median :  5593521   Median : -177336  \n",
       "                    Mean   :1695   Mean   :  3113655   Mean   : -162956  \n",
       "                    3rd Qu.:2166   3rd Qu.: 12539721   3rd Qu.: 1752164  \n",
       "                    Max.   :3457   Max.   : 17170521   Max.   : 7154764  \n",
       "                    NA's   :230    NA's   :230         NA's   :230       \n",
       "      area           genetic_diversity         sd             seq_count     \n",
       " Min.   :0.000e+00   Min.   :0.0002045   Min.   :0.000000   Min.   :  4.00  \n",
       " 1st Qu.:3.110e+10   1st Qu.:0.0039543   1st Qu.:0.002455   1st Qu.:  7.00  \n",
       " Median :8.340e+10   Median :0.0069744   Median :0.005426   Median : 12.00  \n",
       " Mean   :8.431e+10   Mean   :0.0124713   Mean   :0.011000   Mean   : 23.16  \n",
       " 3rd Qu.:1.489e+11   3rd Qu.:0.0161307   3rd Qu.:0.016890   3rd Qu.: 24.00  \n",
       " Max.   :1.489e+11   Max.   :0.0761330   Max.   :0.069838   Max.   :891.00  \n",
       " NA's   :230                                                                \n",
       "   variation     \n",
       " Min.   :0.0000  \n",
       " 1st Qu.:0.6056  \n",
       " Median :0.7844  \n",
       " Mean   :0.8709  \n",
       " 3rd Qu.:1.0526  \n",
       " Max.   :2.9100  \n",
       "                 "
      ]
     },
     "metadata": {},
     "output_type": "display_data"
    },
    {
     "data": {
      "text/html": [
       "4316"
      ],
      "text/latex": [
       "4316"
      ],
      "text/markdown": [
       "4316"
      ],
      "text/plain": [
       "[1] 4316"
      ]
     },
     "metadata": {},
     "output_type": "display_data"
    },
    {
     "data": {
      "text/html": [
       "4086"
      ],
      "text/latex": [
       "4086"
      ],
      "text/markdown": [
       "4086"
      ],
      "text/plain": [
       "[1] 4086"
      ]
     },
     "metadata": {},
     "output_type": "display_data"
    }
   ],
   "source": [
    "gendivers_corrected <- read.csv(\"gendivers_corrected.csv\") # genetic diversity for each species\n",
    "gendivers_corrected$species <- gsub('_',' ',gendivers_corrected$species)\n",
    "species_grid_filtered <- read.csv(\"species_distribution_grid_filtered.csv\",col.names=c('species','grid_id','long','lat','area')) #species distribution\n",
    "ocean_grid_id <- read.csv(\"ocean_grid_id.csv\") %>% pull(grid_id)\n",
    "\n",
    "equal_area_grid <- sf::st_read(dsn = \"SHP//Export_Output_5.shp\")\n",
    "genetic_diversity_pattern <- filter(species_grid_filtered, grid_id %in% ocean_grid_id) %>% #  & area > 385900*385900*0.5\n",
    "    right_join(gendivers_corrected,by ='species') # merge species genetic diversity and distribution\n",
    "summary(genetic_diversity_pattern)\n",
    "length(unique(genetic_diversity_pattern$species))\n",
    "filter(genetic_diversity_pattern,!is.na(grid_id)) %>% pull(species) %>% unique() %>% length()"
   ]
  },
  {
   "cell_type": "markdown",
   "metadata": {},
   "source": [
    "# genetic diversity of each cell"
   ]
  },
  {
   "cell_type": "code",
   "execution_count": 10,
   "metadata": {
    "ExecuteTime": {
     "end_time": "2022-10-19T09:02:02.439281Z",
     "start_time": "2022-10-19T09:02:03.052Z"
    }
   },
   "outputs": [],
   "source": [
    "data <- genetic_diversity_pattern %>% group_by(grid_id) %>%\n",
    "    summarise(co1_genetic_diversity_mean=mean(genetic_diversity),co1_sampled_species_richness=length(unique(species))) # average species genetic diversity in each grid\n",
    "map <- left_join(data,equal_area_grid,by = 'grid_id')\n",
    "data_table <- dplyr::select(map,c(grid_id,long,lat,co1_genetic_diversity_mean,co1_sampled_species_richness))\n",
    "write.csv(data_table,\"data_table.csv\",row.names=F)"
   ]
  }
 ],
 "metadata": {
  "anaconda-cloud": {},
  "kernelspec": {
   "display_name": "R [conda env:rsf]",
   "language": "R",
   "name": "conda-env-rsf-r"
  },
  "language_info": {
   "codemirror_mode": "r",
   "file_extension": ".r",
   "mimetype": "text/x-r-source",
   "name": "R",
   "pygments_lexer": "r",
   "version": "4.0.3"
  },
  "toc": {
   "base_numbering": 1,
   "nav_menu": {},
   "number_sections": true,
   "sideBar": true,
   "skip_h1_title": false,
   "title_cell": "Table of Contents",
   "title_sidebar": "Contents",
   "toc_cell": false,
   "toc_position": {
    "height": "calc(100% - 180px)",
    "left": "10px",
    "top": "150px",
    "width": "165px"
   },
   "toc_section_display": true,
   "toc_window_display": true
  },
  "varInspector": {
   "cols": {
    "lenName": 16,
    "lenType": 16,
    "lenVar": 40
   },
   "kernels_config": {
    "python": {
     "delete_cmd_postfix": "",
     "delete_cmd_prefix": "del ",
     "library": "var_list.py",
     "varRefreshCmd": "print(var_dic_list())"
    },
    "r": {
     "delete_cmd_postfix": ") ",
     "delete_cmd_prefix": "rm(",
     "library": "var_list.r",
     "varRefreshCmd": "cat(var_dic_list()) "
    }
   },
   "oldHeight": 433.001894,
   "position": {
    "height": "40px",
    "left": "769.992px",
    "right": "20px",
    "top": "-6.71496px",
    "width": "350px"
   },
   "types_to_exclude": [
    "module",
    "function",
    "builtin_function_or_method",
    "instance",
    "_Feature"
   ],
   "varInspector_section_display": "none",
   "window_display": true
  }
 },
 "nbformat": 4,
 "nbformat_minor": 2
}
